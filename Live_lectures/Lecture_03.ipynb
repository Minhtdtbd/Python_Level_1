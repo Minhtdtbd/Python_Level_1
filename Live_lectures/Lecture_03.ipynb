{
 "cells": [
  {
   "cell_type": "markdown",
   "id": "5302f62f-cf63-4834-892f-39e19d0f33d5",
   "metadata": {},
   "source": [
    "### 1. Programming Flow"
   ]
  },
  {
   "cell_type": "markdown",
   "id": "b6b875f3-246c-447a-9acc-1573f5ca188b",
   "metadata": {},
   "source": [
    "- Tuần tự (Sequence)--> Lặp (Loop) --> Rẽ nhánh (Condition)"
   ]
  },
  {
   "cell_type": "markdown",
   "id": "c3b2c2f1-e2f3-429d-89ee-636ce1813443",
   "metadata": {},
   "source": [
    "#### 1.1. Sequence / Synchronize"
   ]
  },
  {
   "cell_type": "code",
   "execution_count": 1,
   "id": "ebd0b0ce-f0b9-43f0-8b2c-009ddc11751c",
   "metadata": {},
   "outputs": [
    {
     "name": "stdout",
     "output_type": "stream",
     "text": [
      "I am groot\n",
      "2\n",
      "I am Truong\n"
     ]
    }
   ],
   "source": [
    "print('I am groot')\n",
    "print(1 + 1)\n",
    "print('I am Truong')"
   ]
  },
  {
   "cell_type": "markdown",
   "id": "5185eb77-f782-4266-be21-a5c71403b3ba",
   "metadata": {},
   "source": [
    "#### 1.2. Loop"
   ]
  },
  {
   "cell_type": "markdown",
   "id": "00532fef-c9dd-4c77-9eae-e6725f8e266b",
   "metadata": {},
   "source": [
    "##### 1.2.1. For loop"
   ]
  },
  {
   "cell_type": "markdown",
   "id": "5e7fb155-edc3-449e-926c-9410f36f96aa",
   "metadata": {},
   "source": [
    "```python\n",
    "# Loop through item\n",
    "for item in li:\n",
    "    business logic\n",
    "    \n",
    "# Loop through index\n",
    "for index in range(len(li)):\n",
    "    business logic\n",
    "```"
   ]
  },
  {
   "cell_type": "code",
   "execution_count": 12,
   "id": "0c070f22-08bd-4620-8c9b-db36248b850d",
   "metadata": {},
   "outputs": [
    {
     "data": {
      "text/plain": [
       "['append',\n",
       " 'clear',\n",
       " 'copy',\n",
       " 'count',\n",
       " 'extend',\n",
       " 'index',\n",
       " 'insert',\n",
       " 'pop',\n",
       " 'remove',\n",
       " 'reverse',\n",
       " 'sort']"
      ]
     },
     "execution_count": 12,
     "metadata": {},
     "output_type": "execute_result"
    }
   ],
   "source": [
    "[i for i in dir(li) if not i.startswith('_')]"
   ]
  },
  {
   "cell_type": "code",
   "execution_count": 13,
   "id": "c40c4aca-f095-4dfb-9dc6-426b1bdc1abd",
   "metadata": {},
   "outputs": [
    {
     "data": {
      "text/plain": [
       "[1, 4, 9, 16]"
      ]
     },
     "execution_count": 13,
     "metadata": {},
     "output_type": "execute_result"
    }
   ],
   "source": [
    "li = [1, 2, 3, 4]\n",
    "new_li = []\n",
    "for item in li:\n",
    "    new_li.append(item ** 2)\n",
    "    \n",
    "new_li"
   ]
  },
  {
   "cell_type": "code",
   "execution_count": 14,
   "id": "9a7efb7b-b906-4f60-8658-874531cb224e",
   "metadata": {},
   "outputs": [
    {
     "data": {
      "text/plain": [
       "[1, 8, 27, 64]"
      ]
     },
     "execution_count": 14,
     "metadata": {},
     "output_type": "execute_result"
    }
   ],
   "source": [
    "li = [1, 2, 3, 4]\n",
    "new_li = []\n",
    "for i in range(len(li)):\n",
    "    new_li.append(li[i] ** 3)\n",
    "\n",
    "new_li"
   ]
  },
  {
   "cell_type": "code",
   "execution_count": 15,
   "id": "1e5e47cc-8075-4727-bcbd-2e0170d5c7ab",
   "metadata": {},
   "outputs": [
    {
     "data": {
      "text/plain": [
       "[0, 2, 4, 6, 8]"
      ]
     },
     "execution_count": 15,
     "metadata": {},
     "output_type": "execute_result"
    }
   ],
   "source": [
    "list(range(0, 10, 2))"
   ]
  },
  {
   "cell_type": "markdown",
   "id": "c320e1ae-57b9-4caf-af32-fc20bd5f51b9",
   "metadata": {},
   "source": [
    "##### 1.2.2. While loop"
   ]
  },
  {
   "cell_type": "markdown",
   "id": "858543a1-3109-44ce-931f-ccbb80eedfc1",
   "metadata": {},
   "source": [
    "```python\n",
    "while condition:   #condition: boolean --> True\n",
    "    business logic\n",
    "    \n",
    "    # Stop condition\n",
    "```"
   ]
  },
  {
   "cell_type": "code",
   "execution_count": 2,
   "id": "9a609cfb-f657-4b56-b23f-fe4131920e77",
   "metadata": {},
   "outputs": [
    {
     "name": "stdout",
     "output_type": "stream",
     "text": [
      "b > a\n",
      "b > a\n",
      "b > a\n",
      "b > a\n",
      "b > a\n",
      "b > a\n"
     ]
    }
   ],
   "source": [
    "a, b = 5, 10\n",
    "while True:\n",
    "    print('b > a')\n",
    "    a += 1 # a = a + 1\n",
    "    \n",
    "    if a > b:\n",
    "        break"
   ]
  },
  {
   "cell_type": "markdown",
   "id": "7518b779-ab8d-4e8b-a822-338bba6b3bec",
   "metadata": {},
   "source": [
    "- For: Known number of loops\n",
    "- While: Unknown number of loops"
   ]
  },
  {
   "cell_type": "markdown",
   "id": "59eea7b2-2ae6-4d6d-bbd3-977ef6196de9",
   "metadata": {},
   "source": [
    "#### 1.3. Condition"
   ]
  },
  {
   "cell_type": "markdown",
   "id": "fb5dc434-be65-4d86-a215-2e222c7e3cad",
   "metadata": {},
   "source": [
    "```python\n",
    "if condition: # condition --> boolean\n",
    "    logic\n",
    "elif condition: # optional\n",
    "    logic\n",
    "elif condition: # optional\n",
    "    logic\n",
    "    ...\n",
    "else: # optional\n",
    "    logic\n",
    "```"
   ]
  },
  {
   "cell_type": "code",
   "execution_count": 7,
   "id": "d226e450-0db1-4b8e-b4f7-8b8d43e4be80",
   "metadata": {},
   "outputs": [
    {
     "name": "stdout",
     "output_type": "stream",
     "text": [
      "Even numbers: [2, 4, 6, 8, 10]\n",
      "Odd numbers: [1, 3, 5, 7, 9]\n"
     ]
    }
   ],
   "source": [
    "li = list(range(1, 11))\n",
    "even_li = []\n",
    "odd_li = []\n",
    "\n",
    "for item in li:\n",
    "    if item % 2 == 0:\n",
    "        even_li.append(item) \n",
    "    else:\n",
    "        odd_li.append(item)\n",
    "        \n",
    "print(f\"Even numbers: {even_li}\")\n",
    "print(f\"Odd numbers: {odd_li}\")"
   ]
  },
  {
   "cell_type": "markdown",
   "id": "d7cdd26c-40b3-474d-8d2e-8929f1a0247c",
   "metadata": {},
   "source": [
    "### 2. Function\n",
    "- Built-in function: print(), range(), sum(), max()\n",
    "- User-defined function (UDF): "
   ]
  },
  {
   "cell_type": "markdown",
   "id": "236948bf-2bba-4e2b-b19e-e1ea4ca08136",
   "metadata": {},
   "source": [
    "```python\n",
    "def function_name(arg_1, arg_2, arg_3, ... -optional):\n",
    "    logic\n",
    "    \n",
    "    return output --> optional\n",
    "```"
   ]
  },
  {
   "cell_type": "code",
   "execution_count": 8,
   "id": "5e4e717c-565f-42cf-8848-108209c3b580",
   "metadata": {},
   "outputs": [
    {
     "data": {
      "text/plain": [
       "9"
      ]
     },
     "execution_count": 8,
     "metadata": {},
     "output_type": "execute_result"
    }
   ],
   "source": [
    "max(list(range(1, 10)))"
   ]
  },
  {
   "cell_type": "code",
   "execution_count": 1,
   "id": "fd699c2d-ada0-4f37-acea-4f5f0c9a0fee",
   "metadata": {},
   "outputs": [],
   "source": [
    "import numpy as np\n",
    "import helper"
   ]
  },
  {
   "cell_type": "code",
   "execution_count": 2,
   "id": "e731534c-8203-429e-928b-1d6d7849bdba",
   "metadata": {},
   "outputs": [
    {
     "data": {
      "text/plain": [
       "[721,\n",
       " 836,\n",
       " 396,\n",
       " 828,\n",
       " 56,\n",
       " 188,\n",
       " 607,\n",
       " 401,\n",
       " 836,\n",
       " 580,\n",
       " 146,\n",
       " 36,\n",
       " 103,\n",
       " 892,\n",
       " 990,\n",
       " 858,\n",
       " 597,\n",
       " 872,\n",
       " 149,\n",
       " 312]"
      ]
     },
     "execution_count": 2,
     "metadata": {},
     "output_type": "execute_result"
    }
   ],
   "source": [
    "# np.random.seed(4)\n",
    "li = np.random.randint(1, 1000, 20).tolist()\n",
    "li"
   ]
  },
  {
   "cell_type": "code",
   "execution_count": 5,
   "id": "7cb6344e-cded-45a8-9bcf-fa8580533c0a",
   "metadata": {},
   "outputs": [],
   "source": [
    "def maximum(li):\n",
    "    largest = li[0]\n",
    "    for item in li[1: ]:\n",
    "        if largest < item:\n",
    "            largest = item\n",
    "            \n",
    "    return largest"
   ]
  },
  {
   "cell_type": "code",
   "execution_count": 3,
   "id": "f6e52073-d56e-4629-9053-6f5f0125c588",
   "metadata": {},
   "outputs": [
    {
     "data": {
      "text/plain": [
       "990"
      ]
     },
     "execution_count": 3,
     "metadata": {},
     "output_type": "execute_result"
    }
   ],
   "source": [
    "helper.maximum(li)"
   ]
  },
  {
   "cell_type": "code",
   "execution_count": 4,
   "id": "321e620c-e33b-4600-9779-ad1e922de289",
   "metadata": {},
   "outputs": [
    {
     "data": {
      "text/plain": [
       "36"
      ]
     },
     "execution_count": 4,
     "metadata": {},
     "output_type": "execute_result"
    }
   ],
   "source": [
    "helper.minimum(li)"
   ]
  },
  {
   "cell_type": "markdown",
   "id": "5e385940-f7b5-49ec-aa2d-5e01b569ed50",
   "metadata": {},
   "source": [
    "#### Anonymous function"
   ]
  },
  {
   "cell_type": "markdown",
   "id": "271320df-b4c0-4453-9059-e562aad72df1",
   "metadata": {},
   "source": [
    "```python\n",
    "lambda input_ : output\n",
    "```"
   ]
  },
  {
   "cell_type": "code",
   "execution_count": 6,
   "id": "9ed917cf-50d1-45ec-ace2-7294bdafcf3a",
   "metadata": {},
   "outputs": [
    {
     "data": {
      "text/plain": [
       "16"
      ]
     },
     "execution_count": 6,
     "metadata": {},
     "output_type": "execute_result"
    }
   ],
   "source": [
    "squared = lambda x : x**2\n",
    "squared(4)"
   ]
  },
  {
   "cell_type": "code",
   "execution_count": 7,
   "id": "e4138740-130c-448e-a154-01360536332d",
   "metadata": {},
   "outputs": [
    {
     "data": {
      "text/plain": [
       "25"
      ]
     },
     "execution_count": 7,
     "metadata": {},
     "output_type": "execute_result"
    }
   ],
   "source": [
    "squared(5)"
   ]
  },
  {
   "cell_type": "code",
   "execution_count": 8,
   "id": "b4dfa0a8-2c8e-4216-9622-1ae68392b142",
   "metadata": {},
   "outputs": [
    {
     "data": {
      "text/plain": [
       "12"
      ]
     },
     "execution_count": 8,
     "metadata": {},
     "output_type": "execute_result"
    }
   ],
   "source": [
    "regtangle_squared = lambda x, y : x * y\n",
    "regtangle_squared(3, 4)"
   ]
  },
  {
   "cell_type": "markdown",
   "id": "a542182a-e504-41dd-a403-351b72310335",
   "metadata": {},
   "source": [
    "### 3. Comprehension"
   ]
  },
  {
   "cell_type": "code",
   "execution_count": 9,
   "id": "390727a8-b27e-45ed-aa98-4e16f8888f4c",
   "metadata": {},
   "outputs": [
    {
     "data": {
      "text/plain": [
       "[721,\n",
       " 836,\n",
       " 396,\n",
       " 828,\n",
       " 56,\n",
       " 188,\n",
       " 607,\n",
       " 401,\n",
       " 836,\n",
       " 580,\n",
       " 146,\n",
       " 36,\n",
       " 103,\n",
       " 892,\n",
       " 990,\n",
       " 858,\n",
       " 597,\n",
       " 872,\n",
       " 149,\n",
       " 312]"
      ]
     },
     "execution_count": 9,
     "metadata": {},
     "output_type": "execute_result"
    }
   ],
   "source": [
    "li"
   ]
  },
  {
   "cell_type": "code",
   "execution_count": 10,
   "id": "6cc90527-066b-44bd-9ff7-9d3745f7b764",
   "metadata": {},
   "outputs": [
    {
     "data": {
      "text/plain": [
       "[836, 396, 828, 56, 188, 836, 580, 146, 36, 892, 990, 858, 872, 312]"
      ]
     },
     "execution_count": 10,
     "metadata": {},
     "output_type": "execute_result"
    }
   ],
   "source": [
    "[i for i in li if i % 2 == 0]"
   ]
  },
  {
   "cell_type": "code",
   "execution_count": 11,
   "id": "0d66d52a-e71a-4d97-ad4c-76b70d903789",
   "metadata": {},
   "outputs": [
    {
     "data": {
      "text/plain": [
       "[721, 607, 401, 103, 597, 149]"
      ]
     },
     "execution_count": 11,
     "metadata": {},
     "output_type": "execute_result"
    }
   ],
   "source": [
    "[i for i in li if i % 2 != 0]"
   ]
  },
  {
   "cell_type": "code",
   "execution_count": 12,
   "id": "1ea7efd7-ffa6-482b-8b49-fe7288e2ecea",
   "metadata": {},
   "outputs": [
    {
     "data": {
      "text/plain": [
       "{103, 149, 401, 597, 607, 721}"
      ]
     },
     "execution_count": 12,
     "metadata": {},
     "output_type": "execute_result"
    }
   ],
   "source": [
    "{i for i in li if i % 2 != 0}"
   ]
  },
  {
   "cell_type": "code",
   "execution_count": 13,
   "id": "0ab80174-9504-49f8-99cd-522981893c40",
   "metadata": {},
   "outputs": [
    {
     "data": {
      "text/plain": [
       "[1442,\n",
       " 836,\n",
       " 396,\n",
       " 828,\n",
       " 56,\n",
       " 188,\n",
       " 1214,\n",
       " 802,\n",
       " 836,\n",
       " 580,\n",
       " 146,\n",
       " 36,\n",
       " 206,\n",
       " 892,\n",
       " 990,\n",
       " 858,\n",
       " 1194,\n",
       " 872,\n",
       " 298,\n",
       " 312]"
      ]
     },
     "execution_count": 13,
     "metadata": {},
     "output_type": "execute_result"
    }
   ],
   "source": [
    "[i * 2 if i % 2 != 0 else i for i in li]"
   ]
  },
  {
   "cell_type": "markdown",
   "id": "bb220dba-a9be-42dd-bc03-b34559c748c5",
   "metadata": {},
   "source": [
    "### 4. Input/ Output (I/O)"
   ]
  },
  {
   "cell_type": "code",
   "execution_count": 17,
   "id": "f0aa75f4-1cdf-4a97-b989-65a76705c6f4",
   "metadata": {},
   "outputs": [],
   "source": [
    "import json\n",
    "import requests"
   ]
  },
  {
   "cell_type": "code",
   "execution_count": 18,
   "id": "221da47c-4aef-4e25-9284-42b8dbc9ceb3",
   "metadata": {},
   "outputs": [],
   "source": [
    "url = 'https://finfo-api.vndirect.com.vn/v4/stocks?q=type:stock,ifc~floor:HOSE,HNX,UPCOM&size=9999'\n",
    "data = requests.get(url).json()"
   ]
  },
  {
   "cell_type": "code",
   "execution_count": 20,
   "id": "d394c0a5-5456-4738-b26b-dbb88a09b5e3",
   "metadata": {},
   "outputs": [],
   "source": [
    "with open('ticker.json', 'w') as f: # write\n",
    "    json.dump(data, f, indent=4)"
   ]
  },
  {
   "cell_type": "code",
   "execution_count": 21,
   "id": "df1a1ca5-072a-41d0-a249-27b6fc324380",
   "metadata": {},
   "outputs": [],
   "source": [
    "with open('ticker.json', 'r') as f:  # read\n",
    "    ticker = json.load(f)"
   ]
  },
  {
   "cell_type": "code",
   "execution_count": 25,
   "id": "91745df8-beba-4b8b-b195-b862ef8b5238",
   "metadata": {},
   "outputs": [
    {
     "data": {
      "text/plain": [
       "[{'code': 'VFMVF4',\n",
       "  'type': 'IFC',\n",
       "  'floor': 'HOSE',\n",
       "  'isin': 'VN000VFMVF45',\n",
       "  'status': 'delisted',\n",
       "  'companyName': 'Quỹ đầu tư Doanh nghiệp hàng đầu Việt Nam',\n",
       "  'companyNameEng': 'Vietnam Blue-chips Fund',\n",
       "  'listedDate': '2008-06-12',\n",
       "  'delistedDate': '2013-11-26',\n",
       "  'companyId': '2340'},\n",
       " {'code': 'VFMVFA',\n",
       "  'type': 'IFC',\n",
       "  'floor': 'HOSE',\n",
       "  'isin': 'VN000VFMVFA5',\n",
       "  'status': 'delisted',\n",
       "  'companyName': 'Quỹ Đầu tư năng động Việt Nam ',\n",
       "  'companyNameEng': 'Vietnam Active Fund',\n",
       "  'listedDate': '2010-08-09',\n",
       "  'delistedDate': '2013-03-11',\n",
       "  'companyId': '2862'}]"
      ]
     },
     "execution_count": 25,
     "metadata": {},
     "output_type": "execute_result"
    }
   ],
   "source": [
    "ticker['data'][:2]"
   ]
  },
  {
   "cell_type": "markdown",
   "id": "5c03a852-091f-4935-81d3-c8f6c9b6ed37",
   "metadata": {},
   "source": [
    "### Assignment"
   ]
  },
  {
   "cell_type": "code",
   "execution_count": 26,
   "id": "2eaa99ff-465f-46eb-b9ef-b8bf0edbe8d6",
   "metadata": {},
   "outputs": [
    {
     "data": {
      "text/plain": [
       "[1, 2, 3, 4, 5, 6, 7, 8, 9, 10]"
      ]
     },
     "execution_count": 26,
     "metadata": {},
     "output_type": "execute_result"
    }
   ],
   "source": [
    "li = list(range(1, 11))\n",
    "li"
   ]
  },
  {
   "cell_type": "code",
   "execution_count": 27,
   "id": "a538b1f7-0299-4d69-a9d5-94ca43a9c942",
   "metadata": {},
   "outputs": [
    {
     "data": {
      "text/plain": [
       "1"
      ]
     },
     "execution_count": 27,
     "metadata": {},
     "output_type": "execute_result"
    }
   ],
   "source": [
    "min(li)"
   ]
  },
  {
   "cell_type": "code",
   "execution_count": 28,
   "id": "d0511495-0c5c-40a8-bf7c-d1f69c31ba11",
   "metadata": {},
   "outputs": [
    {
     "data": {
      "text/plain": [
       "10"
      ]
     },
     "execution_count": 28,
     "metadata": {},
     "output_type": "execute_result"
    }
   ],
   "source": [
    "max(li)"
   ]
  },
  {
   "cell_type": "code",
   "execution_count": 29,
   "id": "557ba585-5e3d-4d13-8975-01800294022c",
   "metadata": {},
   "outputs": [
    {
     "data": {
      "text/plain": [
       "5.5"
      ]
     },
     "execution_count": 29,
     "metadata": {},
     "output_type": "execute_result"
    }
   ],
   "source": [
    "sum(li) / len(li)"
   ]
  },
  {
   "cell_type": "code",
   "execution_count": 32,
   "id": "b5a088fd-0568-47f2-95eb-f5365f40dbbb",
   "metadata": {},
   "outputs": [],
   "source": [
    "def summation(li):\n",
    "    for i in li:\n",
    "        \n",
    "    return\n",
    "\n",
    "\n",
    "def count(li):\n",
    "    return\n",
    "\n",
    "\n",
    "def mean(li):\n",
    "    return summation(li) / count(li)"
   ]
  },
  {
   "cell_type": "code",
   "execution_count": 33,
   "id": "eae8d3e3-8d28-440e-ad95-4195c4acc4da",
   "metadata": {},
   "outputs": [],
   "source": [
    "def summation(li):\n",
    "    sum_ = 0\n",
    "    for item in li:\n",
    "        sum_ += item\n",
    "    return sum_\n",
    "    \n",
    "def count(li):\n",
    "    counter = 0\n",
    "    for i in range(len(li)):\n",
    "        counter += 1\n",
    "    return counter\n",
    "\n",
    "def mean(li):\n",
    "    return summation(li)/count(li)"
   ]
  },
  {
   "cell_type": "code",
   "execution_count": 34,
   "id": "544a774d-36c9-4636-8187-6507e85a96f4",
   "metadata": {},
   "outputs": [
    {
     "data": {
      "text/plain": [
       "5.5"
      ]
     },
     "execution_count": 34,
     "metadata": {},
     "output_type": "execute_result"
    }
   ],
   "source": [
    "mean(li)"
   ]
  },
  {
   "cell_type": "code",
   "execution_count": null,
   "id": "4d1991ac-a31f-473b-87cc-6abc9ac0f09e",
   "metadata": {},
   "outputs": [],
   "source": []
  }
 ],
 "metadata": {
  "kernelspec": {
   "display_name": "Python 3",
   "language": "python",
   "name": "python3"
  },
  "language_info": {
   "codemirror_mode": {
    "name": "ipython",
    "version": 3
   },
   "file_extension": ".py",
   "mimetype": "text/x-python",
   "name": "python",
   "nbconvert_exporter": "python",
   "pygments_lexer": "ipython3",
   "version": "3.7.10"
  }
 },
 "nbformat": 4,
 "nbformat_minor": 5
}
