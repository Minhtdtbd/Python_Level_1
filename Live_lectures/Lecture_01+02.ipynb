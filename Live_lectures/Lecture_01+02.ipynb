{
 "cells": [
  {
   "cell_type": "code",
   "execution_count": 1,
   "id": "cf942fac-b1c3-41ed-8e7b-1ba51d75873e",
   "metadata": {},
   "outputs": [
    {
     "name": "stdout",
     "output_type": "stream",
     "text": [
      "Hello world!\n"
     ]
    }
   ],
   "source": [
    "print(\"Hello world!\")"
   ]
  },
  {
   "cell_type": "code",
   "execution_count": 4,
   "id": "b66ee26d-7159-425e-9b57-f3ab3d75e0c1",
   "metadata": {},
   "outputs": [
    {
     "data": {
      "text/plain": [
       "2"
      ]
     },
     "execution_count": 4,
     "metadata": {},
     "output_type": "execute_result"
    }
   ],
   "source": [
    "1 + 1"
   ]
  },
  {
   "cell_type": "code",
   "execution_count": 5,
   "id": "eea3b1d3-5110-43f7-aade-4670bfe7f8b2",
   "metadata": {},
   "outputs": [
    {
     "data": {
      "text/plain": [
       "0"
      ]
     },
     "execution_count": 5,
     "metadata": {},
     "output_type": "execute_result"
    }
   ],
   "source": [
    "2 - 2"
   ]
  },
  {
   "cell_type": "code",
   "execution_count": 6,
   "id": "59c924e4-3985-46ae-85ba-c300a6556968",
   "metadata": {},
   "outputs": [
    {
     "name": "stdout",
     "output_type": "stream",
     "text": [
      "The Zen of Python, by Tim Peters\n",
      "\n",
      "Beautiful is better than ugly.\n",
      "Explicit is better than implicit.\n",
      "Simple is better than complex.\n",
      "Complex is better than complicated.\n",
      "Flat is better than nested.\n",
      "Sparse is better than dense.\n",
      "Readability counts.\n",
      "Special cases aren't special enough to break the rules.\n",
      "Although practicality beats purity.\n",
      "Errors should never pass silently.\n",
      "Unless explicitly silenced.\n",
      "In the face of ambiguity, refuse the temptation to guess.\n",
      "There should be one-- and preferably only one --obvious way to do it.\n",
      "Although that way may not be obvious at first unless you're Dutch.\n",
      "Now is better than never.\n",
      "Although never is often better than *right* now.\n",
      "If the implementation is hard to explain, it's a bad idea.\n",
      "If the implementation is easy to explain, it may be a good idea.\n",
      "Namespaces are one honking great idea -- let's do more of those!\n"
     ]
    }
   ],
   "source": [
    "import this"
   ]
  },
  {
   "cell_type": "code",
   "execution_count": 2,
   "id": "51d887e7-a153-4ee0-aefb-41c9ad0d06d7",
   "metadata": {},
   "outputs": [
    {
     "data": {
      "text/plain": [
       "0.6666666666666666"
      ]
     },
     "execution_count": 2,
     "metadata": {},
     "output_type": "execute_result"
    }
   ],
   "source": [
    "2 / 3"
   ]
  },
  {
   "cell_type": "markdown",
   "id": "157e9c87-724b-4860-85ae-aae0f438fcfa",
   "metadata": {},
   "source": [
    "I am groot"
   ]
  },
  {
   "cell_type": "markdown",
   "id": "bb30af99-b61a-46ec-bbc2-ef74e83678a4",
   "metadata": {
    "tags": []
   },
   "source": [
    "# Heading 1\n",
    "## Heading 2\n",
    "### Heading 3"
   ]
  },
  {
   "cell_type": "markdown",
   "id": "8318a303-1c75-4724-902f-70175430b8fe",
   "metadata": {},
   "source": [
    "**Bold**"
   ]
  },
  {
   "cell_type": "markdown",
   "id": "9f4bf062-da2c-4b8e-9083-79759ba1436b",
   "metadata": {},
   "source": [
    "*Italic*"
   ]
  },
  {
   "cell_type": "markdown",
   "id": "004bf425-6206-4289-9918-179224585ab2",
   "metadata": {},
   "source": [
    "<h1 style=\"color:red;\">Heading 1</h1>\n",
    "<h2>Heading 2</h2>"
   ]
  },
  {
   "cell_type": "markdown",
   "id": "70e8f40b-74ed-4acf-b1aa-c80a5846ccaf",
   "metadata": {},
   "source": [
    "### 1. Operation\n",
    "- Operator\n",
    "- Operant"
   ]
  },
  {
   "cell_type": "code",
   "execution_count": 1,
   "id": "5767f2ef-343f-4ea7-910f-f7b2f30be537",
   "metadata": {},
   "outputs": [
    {
     "data": {
      "text/plain": [
       "2"
      ]
     },
     "execution_count": 1,
     "metadata": {},
     "output_type": "execute_result"
    }
   ],
   "source": [
    "1 + 1"
   ]
  },
  {
   "cell_type": "code",
   "execution_count": 2,
   "id": "39547a0f-6218-47cb-a03d-1dde2d2d9c3c",
   "metadata": {},
   "outputs": [
    {
     "data": {
      "text/plain": [
       "1"
      ]
     },
     "execution_count": 2,
     "metadata": {},
     "output_type": "execute_result"
    }
   ],
   "source": [
    "2 - 1"
   ]
  },
  {
   "cell_type": "code",
   "execution_count": 3,
   "id": "5f47076b-cc8d-4860-9cc0-d6fe34e67716",
   "metadata": {},
   "outputs": [
    {
     "data": {
      "text/plain": [
       "12"
      ]
     },
     "execution_count": 3,
     "metadata": {},
     "output_type": "execute_result"
    }
   ],
   "source": [
    "3 * 4"
   ]
  },
  {
   "cell_type": "code",
   "execution_count": 7,
   "id": "f86625b9-8b0a-4f44-9c53-6ab23ccf24d5",
   "metadata": {},
   "outputs": [
    {
     "data": {
      "text/plain": [
       "2.4"
      ]
     },
     "execution_count": 7,
     "metadata": {},
     "output_type": "execute_result"
    }
   ],
   "source": [
    "12 / 5"
   ]
  },
  {
   "cell_type": "code",
   "execution_count": 5,
   "id": "01deb191-c158-42bf-8110-aa02fba59c2c",
   "metadata": {},
   "outputs": [
    {
     "data": {
      "text/plain": [
       "9"
      ]
     },
     "execution_count": 5,
     "metadata": {},
     "output_type": "execute_result"
    }
   ],
   "source": [
    "# Power, exponential\n",
    "3 ** 2"
   ]
  },
  {
   "cell_type": "code",
   "execution_count": 6,
   "id": "e896be5c-4de6-4522-a153-2978eaac6433",
   "metadata": {},
   "outputs": [
    {
     "data": {
      "text/plain": [
       "1"
      ]
     },
     "execution_count": 6,
     "metadata": {},
     "output_type": "execute_result"
    }
   ],
   "source": [
    "# Module\n",
    "7 % 3"
   ]
  },
  {
   "cell_type": "code",
   "execution_count": 8,
   "id": "448aa155-2415-4e9c-8762-e7db76c05104",
   "metadata": {},
   "outputs": [
    {
     "data": {
      "text/plain": [
       "2"
      ]
     },
     "execution_count": 8,
     "metadata": {},
     "output_type": "execute_result"
    }
   ],
   "source": [
    "12 % 5"
   ]
  },
  {
   "cell_type": "code",
   "execution_count": 10,
   "id": "3cd9dff9-2916-4e9c-b507-9d18e4751942",
   "metadata": {},
   "outputs": [
    {
     "data": {
      "text/plain": [
       "2"
      ]
     },
     "execution_count": 10,
     "metadata": {},
     "output_type": "execute_result"
    }
   ],
   "source": [
    "# Floor devision\n",
    "11 // 5"
   ]
  },
  {
   "cell_type": "code",
   "execution_count": 11,
   "id": "766e5aca-efc6-443b-9081-905107f8368c",
   "metadata": {},
   "outputs": [
    {
     "data": {
      "text/plain": [
       "3.0"
      ]
     },
     "execution_count": 11,
     "metadata": {},
     "output_type": "execute_result"
    }
   ],
   "source": [
    "9 ** (1/2)"
   ]
  },
  {
   "cell_type": "code",
   "execution_count": 12,
   "id": "d652a585-0fda-4f84-a8ed-ebc2ed9b8656",
   "metadata": {},
   "outputs": [
    {
     "data": {
      "text/plain": [
       "2"
      ]
     },
     "execution_count": 12,
     "metadata": {},
     "output_type": "execute_result"
    }
   ],
   "source": [
    "abs(-2)"
   ]
  },
  {
   "cell_type": "markdown",
   "id": "db97001d-ff8c-4a1e-86c5-6b088cd8c4ae",
   "metadata": {},
   "source": [
    "### 2. Data type and data structures"
   ]
  },
  {
   "cell_type": "markdown",
   "id": "a0e6639b-f648-46bd-a9a7-87aa322dec06",
   "metadata": {},
   "source": [
    "Programming = data structure + algorithm"
   ]
  },
  {
   "cell_type": "markdown",
   "id": "d75da66a-104a-4ecf-b4ec-fd7bb5018bec",
   "metadata": {},
   "source": [
    "- Data type / data structure: Đây là gì?\n",
    "\n",
    "- Algorithm: Máy tính cần phải làm gì."
   ]
  },
  {
   "cell_type": "markdown",
   "id": "38ab2484-5ce1-410e-9727-ace85de60e3e",
   "metadata": {},
   "source": [
    "#### 2.1 Data type"
   ]
  },
  {
   "cell_type": "markdown",
   "id": "27bb4176-f2ff-4e78-87f7-ebb4634c2e47",
   "metadata": {},
   "source": [
    "- Numeric: integer, float\n",
    "- Boolean: True / False\n",
    "- String/ character\n",
    "- Datetime\n",
    "- Complex\n",
    "- NoneType"
   ]
  },
  {
   "cell_type": "code",
   "execution_count": 14,
   "id": "6a22f43a-43ff-41c2-8401-53b9851c96d5",
   "metadata": {},
   "outputs": [],
   "source": [
    "# Variable\n",
    "a = 1_000_000"
   ]
  },
  {
   "cell_type": "code",
   "execution_count": 16,
   "id": "369f9b0b-4bc3-4d6a-93d0-1dce5bf50b56",
   "metadata": {},
   "outputs": [
    {
     "data": {
      "text/plain": [
       "140665146155760"
      ]
     },
     "execution_count": 16,
     "metadata": {},
     "output_type": "execute_result"
    }
   ],
   "source": [
    "id(a)"
   ]
  },
  {
   "cell_type": "code",
   "execution_count": 17,
   "id": "c3b47be5-e746-4878-b792-48be4bfcd069",
   "metadata": {},
   "outputs": [
    {
     "data": {
      "text/plain": [
       "int"
      ]
     },
     "execution_count": 17,
     "metadata": {},
     "output_type": "execute_result"
    }
   ],
   "source": [
    "type(10000)"
   ]
  },
  {
   "cell_type": "code",
   "execution_count": 18,
   "id": "41e3923e-de6b-483b-bed6-3c794e4ba1a1",
   "metadata": {},
   "outputs": [
    {
     "data": {
      "text/plain": [
       "int"
      ]
     },
     "execution_count": 18,
     "metadata": {},
     "output_type": "execute_result"
    }
   ],
   "source": [
    "type(a)"
   ]
  },
  {
   "cell_type": "code",
   "execution_count": 19,
   "id": "fba82c42-c42a-4e82-95c3-f48e35b94404",
   "metadata": {},
   "outputs": [
    {
     "data": {
      "text/plain": [
       "float"
      ]
     },
     "execution_count": 19,
     "metadata": {},
     "output_type": "execute_result"
    }
   ],
   "source": [
    "type(0.4)"
   ]
  },
  {
   "cell_type": "code",
   "execution_count": 20,
   "id": "bdf7777b-c79e-4589-834a-d553241cdae3",
   "metadata": {},
   "outputs": [
    {
     "data": {
      "text/plain": [
       "float"
      ]
     },
     "execution_count": 20,
     "metadata": {},
     "output_type": "execute_result"
    }
   ],
   "source": [
    "type(4.0)"
   ]
  },
  {
   "cell_type": "code",
   "execution_count": 21,
   "id": "1b1753d9-d6e1-42f8-88d0-bf4656f4d43f",
   "metadata": {},
   "outputs": [
    {
     "data": {
      "text/plain": [
       "str"
      ]
     },
     "execution_count": 21,
     "metadata": {},
     "output_type": "execute_result"
    }
   ],
   "source": [
    "string = \"I am groot\"\n",
    "type(string)"
   ]
  },
  {
   "cell_type": "code",
   "execution_count": 22,
   "id": "2e0680f4-d3b9-42eb-b3a7-57200683c798",
   "metadata": {},
   "outputs": [
    {
     "data": {
      "text/plain": [
       "str"
      ]
     },
     "execution_count": 22,
     "metadata": {},
     "output_type": "execute_result"
    }
   ],
   "source": [
    "character = 'M'\n",
    "type(character)"
   ]
  },
  {
   "cell_type": "code",
   "execution_count": 23,
   "id": "d0bcbd9f-f337-4d72-8f15-ea4cce1b304b",
   "metadata": {},
   "outputs": [
    {
     "data": {
      "text/plain": [
       "bool"
      ]
     },
     "execution_count": 23,
     "metadata": {},
     "output_type": "execute_result"
    }
   ],
   "source": [
    "type(True)"
   ]
  },
  {
   "cell_type": "code",
   "execution_count": 24,
   "id": "7646e031-a7c5-43d8-b217-c31f8bbc49a8",
   "metadata": {},
   "outputs": [
    {
     "data": {
      "text/plain": [
       "bool"
      ]
     },
     "execution_count": 24,
     "metadata": {},
     "output_type": "execute_result"
    }
   ],
   "source": [
    "type(False)"
   ]
  },
  {
   "cell_type": "code",
   "execution_count": 25,
   "id": "ecee9f07-5276-4695-a056-d60c8ea36aad",
   "metadata": {},
   "outputs": [
    {
     "data": {
      "text/plain": [
       "complex"
      ]
     },
     "execution_count": 25,
     "metadata": {},
     "output_type": "execute_result"
    }
   ],
   "source": [
    "b = 1j + 3\n",
    "type(b)"
   ]
  },
  {
   "cell_type": "code",
   "execution_count": 26,
   "id": "6597bb16-96c7-4dd0-8aa0-16aa64c8ca0c",
   "metadata": {},
   "outputs": [
    {
     "data": {
      "text/plain": [
       "(-1+0j)"
      ]
     },
     "execution_count": 26,
     "metadata": {},
     "output_type": "execute_result"
    }
   ],
   "source": [
    "(1j)**2"
   ]
  },
  {
   "cell_type": "code",
   "execution_count": 27,
   "id": "5adfed5e-3b3c-4235-867f-f6e31a7f97ac",
   "metadata": {},
   "outputs": [
    {
     "data": {
      "text/plain": [
       "NoneType"
      ]
     },
     "execution_count": 27,
     "metadata": {},
     "output_type": "execute_result"
    }
   ],
   "source": [
    "type(None)"
   ]
  },
  {
   "cell_type": "code",
   "execution_count": 28,
   "id": "f25741aa-2f7a-4316-b47c-54125cdecf36",
   "metadata": {},
   "outputs": [],
   "source": [
    "from datetime import datetime"
   ]
  },
  {
   "cell_type": "code",
   "execution_count": 35,
   "id": "cd645705-29a2-49d9-82ba-6c071d645a40",
   "metadata": {},
   "outputs": [],
   "source": [
    "date = datetime.now()"
   ]
  },
  {
   "cell_type": "code",
   "execution_count": 38,
   "id": "2e9daf70-73d4-48f9-8048-5aa3d88136e4",
   "metadata": {},
   "outputs": [
    {
     "data": {
      "text/plain": [
       "2021"
      ]
     },
     "execution_count": 38,
     "metadata": {},
     "output_type": "execute_result"
    }
   ],
   "source": [
    "date.year"
   ]
  },
  {
   "cell_type": "code",
   "execution_count": 39,
   "id": "67efd753-4dce-4fa2-ac35-c72f48220904",
   "metadata": {},
   "outputs": [
    {
     "data": {
      "text/plain": [
       "0.7"
      ]
     },
     "execution_count": 39,
     "metadata": {},
     "output_type": "execute_result"
    }
   ],
   "source": [
    "0.3 + 0.4"
   ]
  },
  {
   "cell_type": "code",
   "execution_count": 40,
   "id": "1a0e9af1-ced6-4d57-8449-b5212623967c",
   "metadata": {},
   "outputs": [
    {
     "data": {
      "text/plain": [
       "'I am groot'"
      ]
     },
     "execution_count": 40,
     "metadata": {},
     "output_type": "execute_result"
    }
   ],
   "source": [
    "'I am' + ' groot'"
   ]
  },
  {
   "cell_type": "code",
   "execution_count": 42,
   "id": "f8ffeb11-ed49-4bea-b7ba-4f56871eda29",
   "metadata": {},
   "outputs": [
    {
     "data": {
      "text/plain": [
       "'I am groot'"
      ]
     },
     "execution_count": 42,
     "metadata": {},
     "output_type": "execute_result"
    }
   ],
   "source": [
    "\"I am\" + ' groot'"
   ]
  },
  {
   "cell_type": "code",
   "execution_count": 43,
   "id": "9adf8a1f-1665-41b3-9e9e-a3de18129535",
   "metadata": {},
   "outputs": [
    {
     "name": "stdout",
     "output_type": "stream",
     "text": [
      "==========I am groot==========\n"
     ]
    }
   ],
   "source": [
    "print('='*10 + 'I am groot' + '='*10)"
   ]
  },
  {
   "cell_type": "code",
   "execution_count": 44,
   "id": "974e0c28-d344-4e32-8a0d-9f5e42480474",
   "metadata": {},
   "outputs": [
    {
     "data": {
      "text/plain": [
       "2"
      ]
     },
     "execution_count": 44,
     "metadata": {},
     "output_type": "execute_result"
    }
   ],
   "source": [
    "True + True"
   ]
  },
  {
   "cell_type": "code",
   "execution_count": 45,
   "id": "23d6fb4b-99a4-4c7f-bfa3-213038ce146a",
   "metadata": {},
   "outputs": [
    {
     "data": {
      "text/plain": [
       "1"
      ]
     },
     "execution_count": 45,
     "metadata": {},
     "output_type": "execute_result"
    }
   ],
   "source": [
    "False + True"
   ]
  },
  {
   "cell_type": "markdown",
   "id": "04da8bd9-5c01-4055-8fa3-38ba496a8866",
   "metadata": {},
   "source": [
    "##### Boolean/ logic operations\n",
    "- And: True if all true\n",
    "- Or: True if at least one True\n",
    "- Not: Invert \n",
    "- Xor: Same False, different --> True"
   ]
  },
  {
   "cell_type": "code",
   "execution_count": 46,
   "id": "b939c5ec-ce36-47e1-89e3-5dc1193f78ca",
   "metadata": {},
   "outputs": [
    {
     "data": {
      "text/plain": [
       "True"
      ]
     },
     "execution_count": 46,
     "metadata": {},
     "output_type": "execute_result"
    }
   ],
   "source": [
    "True and True"
   ]
  },
  {
   "cell_type": "code",
   "execution_count": 47,
   "id": "059f74a4-5f79-441c-a5ed-acf4d2bb4a87",
   "metadata": {},
   "outputs": [
    {
     "data": {
      "text/plain": [
       "False"
      ]
     },
     "execution_count": 47,
     "metadata": {},
     "output_type": "execute_result"
    }
   ],
   "source": [
    "True and False"
   ]
  },
  {
   "cell_type": "code",
   "execution_count": 48,
   "id": "6c115c29-c427-41a6-ab8b-01aec64e4bb3",
   "metadata": {},
   "outputs": [
    {
     "data": {
      "text/plain": [
       "True"
      ]
     },
     "execution_count": 48,
     "metadata": {},
     "output_type": "execute_result"
    }
   ],
   "source": [
    "True or False"
   ]
  },
  {
   "cell_type": "code",
   "execution_count": 49,
   "id": "9bc539d9-19c6-4ca3-b2bd-984c62aa45d5",
   "metadata": {},
   "outputs": [
    {
     "data": {
      "text/plain": [
       "True"
      ]
     },
     "execution_count": 49,
     "metadata": {},
     "output_type": "execute_result"
    }
   ],
   "source": [
    "True or False or False"
   ]
  },
  {
   "cell_type": "code",
   "execution_count": 50,
   "id": "c41c1fe0-a77a-4445-a08f-58ffb3074a0f",
   "metadata": {},
   "outputs": [
    {
     "data": {
      "text/plain": [
       "False"
      ]
     },
     "execution_count": 50,
     "metadata": {},
     "output_type": "execute_result"
    }
   ],
   "source": [
    "not True"
   ]
  },
  {
   "cell_type": "code",
   "execution_count": 51,
   "id": "132905c5-51a5-4687-8170-7488a807b0f5",
   "metadata": {},
   "outputs": [
    {
     "data": {
      "text/plain": [
       "True"
      ]
     },
     "execution_count": 51,
     "metadata": {},
     "output_type": "execute_result"
    }
   ],
   "source": [
    "not False"
   ]
  },
  {
   "cell_type": "code",
   "execution_count": 54,
   "id": "b2a7b17b-512b-4e2e-a7e3-da22892cfc17",
   "metadata": {},
   "outputs": [],
   "source": [
    "a, b = True, False\n",
    "def xor(a, b):\n",
    "    if a == b:\n",
    "        return False\n",
    "    return True"
   ]
  },
  {
   "cell_type": "code",
   "execution_count": 57,
   "id": "6b2a16ec-bce2-48d4-8c41-3c656ed6cc10",
   "metadata": {},
   "outputs": [
    {
     "data": {
      "text/plain": [
       "False"
      ]
     },
     "execution_count": 57,
     "metadata": {},
     "output_type": "execute_result"
    }
   ],
   "source": [
    "xor(False, False)"
   ]
  },
  {
   "cell_type": "code",
   "execution_count": 62,
   "id": "36ca63c1-01d1-4766-8cfe-f1270ca326f3",
   "metadata": {},
   "outputs": [
    {
     "data": {
      "text/plain": [
       "True"
      ]
     },
     "execution_count": 62,
     "metadata": {},
     "output_type": "execute_result"
    }
   ],
   "source": [
    "True and False or (True or True) is not False"
   ]
  },
  {
   "cell_type": "code",
   "execution_count": 63,
   "id": "e240ac6d-9524-40f2-9004-4924e4ca9357",
   "metadata": {},
   "outputs": [
    {
     "data": {
      "text/plain": [
       "True"
      ]
     },
     "execution_count": 63,
     "metadata": {},
     "output_type": "execute_result"
    }
   ],
   "source": [
    "True and False or (True or True) and True"
   ]
  },
  {
   "cell_type": "markdown",
   "id": "ce888852-d1af-4c36-8915-c9c983cc75a4",
   "metadata": {
    "tags": []
   },
   "source": [
    "#### 2.2. Data structure\n",
    "- List: [], list()\n",
    "- Tuple: (), tuple()\n",
    "- Dictionary: {key: value}, dict()\n",
    "- Set: {}"
   ]
  },
  {
   "cell_type": "markdown",
   "id": "df9e8b90-3c45-4c96-9ede-3de8109d481f",
   "metadata": {},
   "source": [
    "##### 2.2.1 List\n",
    "- Initiate [], list()\n",
    "- Index\n",
    "- Order\n",
    "- Mix type\n"
   ]
  },
  {
   "cell_type": "code",
   "execution_count": 105,
   "id": "37f22592-d0ff-4648-8e61-cc94e76df32a",
   "metadata": {},
   "outputs": [],
   "source": [
    "li = [2, 1, 5, 4, 'Truong', False, True]"
   ]
  },
  {
   "cell_type": "code",
   "execution_count": 78,
   "id": "57373b29-310e-4fc4-9185-9095202744ac",
   "metadata": {},
   "outputs": [
    {
     "data": {
      "text/plain": [
       "7"
      ]
     },
     "execution_count": 78,
     "metadata": {},
     "output_type": "execute_result"
    }
   ],
   "source": [
    "len(li)"
   ]
  },
  {
   "cell_type": "code",
   "execution_count": 79,
   "id": "5b97a0c1-c5ab-48e4-8ada-db926a63ad85",
   "metadata": {},
   "outputs": [
    {
     "data": {
      "text/plain": [
       "2"
      ]
     },
     "execution_count": 79,
     "metadata": {},
     "output_type": "execute_result"
    }
   ],
   "source": [
    "li[0]"
   ]
  },
  {
   "cell_type": "code",
   "execution_count": 80,
   "id": "a6eb0f3d-96a9-460e-8435-8c7322f7015e",
   "metadata": {},
   "outputs": [
    {
     "data": {
      "text/plain": [
       "4"
      ]
     },
     "execution_count": 80,
     "metadata": {},
     "output_type": "execute_result"
    }
   ],
   "source": [
    "li[3]"
   ]
  },
  {
   "cell_type": "code",
   "execution_count": 83,
   "id": "97ee5ea0-8544-4d43-b983-f734c2d1bf38",
   "metadata": {},
   "outputs": [
    {
     "data": {
      "text/plain": [
       "False"
      ]
     },
     "execution_count": 83,
     "metadata": {},
     "output_type": "execute_result"
    }
   ],
   "source": [
    "li[-2]"
   ]
  },
  {
   "cell_type": "code",
   "execution_count": 84,
   "id": "37bb142f-0454-4452-bb36-63ddc07b5e25",
   "metadata": {},
   "outputs": [
    {
     "data": {
      "text/plain": [
       "True"
      ]
     },
     "execution_count": 84,
     "metadata": {},
     "output_type": "execute_result"
    }
   ],
   "source": [
    "li[len(li) - 1]"
   ]
  },
  {
   "cell_type": "code",
   "execution_count": 85,
   "id": "aed3baf1-0b9c-45ec-a1be-0d40e205202f",
   "metadata": {},
   "outputs": [
    {
     "data": {
      "text/plain": [
       "[2, 1, 5, 4, 'Truong', False, True]"
      ]
     },
     "execution_count": 85,
     "metadata": {},
     "output_type": "execute_result"
    }
   ],
   "source": [
    "li"
   ]
  },
  {
   "cell_type": "code",
   "execution_count": 87,
   "id": "5c444a4b-6006-47b9-b554-6b20a7564b95",
   "metadata": {},
   "outputs": [
    {
     "data": {
      "text/plain": [
       "[1, 5, 4]"
      ]
     },
     "execution_count": 87,
     "metadata": {},
     "output_type": "execute_result"
    }
   ],
   "source": [
    "li[1: 4]  # start: inclusive, end: exclusive"
   ]
  },
  {
   "cell_type": "code",
   "execution_count": 125,
   "id": "2a9c2395-efb3-4836-af4c-046be19f1930",
   "metadata": {},
   "outputs": [
    {
     "data": {
      "text/plain": [
       "['append',\n",
       " 'clear',\n",
       " 'copy',\n",
       " 'count',\n",
       " 'extend',\n",
       " 'index',\n",
       " 'insert',\n",
       " 'pop',\n",
       " 'remove',\n",
       " 'reverse',\n",
       " 'sort']"
      ]
     },
     "execution_count": 125,
     "metadata": {},
     "output_type": "execute_result"
    }
   ],
   "source": [
    "# Comprehension\n",
    "methods = [method for method in dir(li) if not method.startswith('__')]\n",
    "methods"
   ]
  },
  {
   "cell_type": "code",
   "execution_count": 93,
   "id": "3f046c82-d1ad-4523-9888-14302b83b545",
   "metadata": {},
   "outputs": [],
   "source": [
    "# Docstring / documentation\n",
    "li.append(123)"
   ]
  },
  {
   "cell_type": "code",
   "execution_count": 94,
   "id": "3956188f-7d3b-4e75-b941-af80a62df600",
   "metadata": {},
   "outputs": [
    {
     "data": {
      "text/plain": [
       "[2, 1, 5, 4, 'Truong', False, True, 123]"
      ]
     },
     "execution_count": 94,
     "metadata": {},
     "output_type": "execute_result"
    }
   ],
   "source": [
    "li"
   ]
  },
  {
   "cell_type": "code",
   "execution_count": 95,
   "id": "fd9dba58-7705-4dd5-b03f-15e6015b2d56",
   "metadata": {},
   "outputs": [
    {
     "data": {
      "text/plain": [
       "[2, 1, 5, 4, 'Truong', False, True, 123, [4, 5, 6]]"
      ]
     },
     "execution_count": 95,
     "metadata": {},
     "output_type": "execute_result"
    }
   ],
   "source": [
    "li.append([4, 5, 6])\n",
    "li"
   ]
  },
  {
   "cell_type": "code",
   "execution_count": 96,
   "id": "5a0eb8a8-f9b2-482b-bd02-90076f4ca7d2",
   "metadata": {},
   "outputs": [],
   "source": [
    "a = li.append(False)"
   ]
  },
  {
   "cell_type": "code",
   "execution_count": 101,
   "id": "ab5c51d8-bdf2-4c9c-8baa-53e4659760c8",
   "metadata": {},
   "outputs": [
    {
     "data": {
      "text/plain": [
       "[2, 1, 5, 4, 'Truong', False, True, 123, [4, 5, 6], False]"
      ]
     },
     "execution_count": 101,
     "metadata": {},
     "output_type": "execute_result"
    }
   ],
   "source": [
    "li"
   ]
  },
  {
   "cell_type": "code",
   "execution_count": 102,
   "id": "906fad42-9b54-4211-abb7-fa569bf61cf0",
   "metadata": {},
   "outputs": [
    {
     "data": {
      "text/plain": [
       "['append',\n",
       " 'clear',\n",
       " 'copy',\n",
       " 'count',\n",
       " 'extend',\n",
       " 'index',\n",
       " 'insert',\n",
       " 'pop',\n",
       " 'remove',\n",
       " 'reverse',\n",
       " 'sort']"
      ]
     },
     "execution_count": 102,
     "metadata": {},
     "output_type": "execute_result"
    }
   ],
   "source": [
    "methods"
   ]
  },
  {
   "cell_type": "code",
   "execution_count": 107,
   "id": "0ce07318-058f-4fc8-af2f-b934322e4d32",
   "metadata": {},
   "outputs": [],
   "source": [
    "li.clear()"
   ]
  },
  {
   "cell_type": "code",
   "execution_count": 108,
   "id": "3617cf6f-1f0f-4840-a18e-70054f060c3a",
   "metadata": {},
   "outputs": [
    {
     "data": {
      "text/plain": [
       "[]"
      ]
     },
     "execution_count": 108,
     "metadata": {},
     "output_type": "execute_result"
    }
   ],
   "source": [
    "li"
   ]
  },
  {
   "cell_type": "code",
   "execution_count": 109,
   "id": "70a331f9-5b41-4ec6-81e2-d6ba4bdd2689",
   "metadata": {},
   "outputs": [
    {
     "data": {
      "text/plain": [
       "[[1, 2, 3, 4]]"
      ]
     },
     "execution_count": 109,
     "metadata": {},
     "output_type": "execute_result"
    }
   ],
   "source": [
    "li.append([1, 2, 3, 4])\n",
    "li"
   ]
  },
  {
   "cell_type": "code",
   "execution_count": 112,
   "id": "c0d4337a-b797-42a6-8f71-6503993b8164",
   "metadata": {},
   "outputs": [
    {
     "data": {
      "text/plain": [
       "[[1, 2, 3, 4], 5, 6, 7, 8]"
      ]
     },
     "execution_count": 112,
     "metadata": {},
     "output_type": "execute_result"
    }
   ],
   "source": [
    "li.extend([5, 6, 7, 8])\n",
    "li"
   ]
  },
  {
   "cell_type": "code",
   "execution_count": 116,
   "id": "5c4ebd80-199d-4f97-9a78-dd4144463dba",
   "metadata": {},
   "outputs": [
    {
     "data": {
      "text/plain": [
       "[[1, 2, 3, 4], 5, 6, 7]"
      ]
     },
     "execution_count": 116,
     "metadata": {},
     "output_type": "execute_result"
    }
   ],
   "source": [
    "li.pop()\n",
    "li"
   ]
  },
  {
   "cell_type": "code",
   "execution_count": 118,
   "id": "b3220d2c-b300-4024-a338-9abcc0825cab",
   "metadata": {},
   "outputs": [
    {
     "data": {
      "text/plain": [
       "[5, 6, 7]"
      ]
     },
     "execution_count": 118,
     "metadata": {},
     "output_type": "execute_result"
    }
   ],
   "source": [
    "li.pop(0)\n",
    "li"
   ]
  },
  {
   "cell_type": "code",
   "execution_count": 119,
   "id": "6bd46f93-0e26-413a-aae5-ad8630a29f16",
   "metadata": {},
   "outputs": [
    {
     "data": {
      "text/plain": [
       "[6, 7]"
      ]
     },
     "execution_count": 119,
     "metadata": {},
     "output_type": "execute_result"
    }
   ],
   "source": [
    "li.remove(5)\n",
    "li"
   ]
  },
  {
   "cell_type": "code",
   "execution_count": 120,
   "id": "c9d525be-0370-4645-a00b-3bfbc454181a",
   "metadata": {},
   "outputs": [
    {
     "data": {
      "text/plain": [
       "[6, 7, 6, 5, 5, 7, 8, 7]"
      ]
     },
     "execution_count": 120,
     "metadata": {},
     "output_type": "execute_result"
    }
   ],
   "source": [
    "li.extend([6, 5, 5, 7, 8, 7])\n",
    "li"
   ]
  },
  {
   "cell_type": "code",
   "execution_count": 121,
   "id": "ab3e17d5-3e68-4f48-aa13-03a8c0859314",
   "metadata": {},
   "outputs": [
    {
     "data": {
      "text/plain": [
       "[6, 6, 5, 5, 7, 8, 7]"
      ]
     },
     "execution_count": 121,
     "metadata": {},
     "output_type": "execute_result"
    }
   ],
   "source": [
    "li.remove(7)\n",
    "li"
   ]
  },
  {
   "cell_type": "code",
   "execution_count": 126,
   "id": "e8a85fd9-49e8-4b4a-9372-b5ba954d77ad",
   "metadata": {},
   "outputs": [
    {
     "data": {
      "text/plain": [
       "list"
      ]
     },
     "execution_count": 126,
     "metadata": {},
     "output_type": "execute_result"
    }
   ],
   "source": [
    "type(li)"
   ]
  },
  {
   "cell_type": "markdown",
   "id": "6262ba2a-5872-4a1e-978a-3a0158e51437",
   "metadata": {},
   "source": [
    "##### 2.2.1 Tuple\n",
    "- Initiate: (), tuple()\n",
    "- **Immutable**: can not change values <> **mutable**: can change values\n",
    "- Index, values\n",
    "- High performance than list"
   ]
  },
  {
   "cell_type": "markdown",
   "id": "2c6df7f4-e998-4373-ae19-4bed184f63d7",
   "metadata": {},
   "source": [
    "![](https://i.stack.imgur.com/M3iZD.png)"
   ]
  },
  {
   "cell_type": "code",
   "execution_count": 136,
   "id": "447e75b6-24a9-48f6-bef2-8afcb35105db",
   "metadata": {},
   "outputs": [
    {
     "name": "stdout",
     "output_type": "stream",
     "text": [
      "Number a = 1 at:  4452672112\n",
      "Number a = 2 at:  4452672144\n"
     ]
    }
   ],
   "source": [
    "a = 1\n",
    "print(f\"Number a = {a} at: \", id(a))\n",
    "\n",
    "a = 2\n",
    "print(f\"Number a = {a} at: \", id(a))"
   ]
  },
  {
   "cell_type": "code",
   "execution_count": 134,
   "id": "b06a7680-f030-4833-80b5-07a0cb9b769e",
   "metadata": {},
   "outputs": [
    {
     "name": "stdout",
     "output_type": "stream",
     "text": [
      "List [1, 2] at  140665690491792\n",
      "List [1, 2, 3] at  140665690491792\n"
     ]
    }
   ],
   "source": [
    "li = [1, 2]\n",
    "print(f\"List {li} at \", id(li))\n",
    "li.append(3)\n",
    "print(f\"List {li} at \", id(li))"
   ]
  },
  {
   "cell_type": "code",
   "execution_count": 137,
   "id": "40e535cb-a5ce-469a-b1e2-5dd75b3100a9",
   "metadata": {},
   "outputs": [
    {
     "data": {
      "text/plain": [
       "2"
      ]
     },
     "execution_count": 137,
     "metadata": {},
     "output_type": "execute_result"
    }
   ],
   "source": [
    "tup = (1, 2, 3, 4)\n",
    "tup[1]"
   ]
  },
  {
   "cell_type": "code",
   "execution_count": 138,
   "id": "ecee5ff1-749f-47c7-97fa-7cb5c6b9c507",
   "metadata": {},
   "outputs": [
    {
     "data": {
      "text/plain": [
       "['count', 'index']"
      ]
     },
     "execution_count": 138,
     "metadata": {},
     "output_type": "execute_result"
    }
   ],
   "source": [
    "# Comprehension\n",
    "methods = [method for method in dir(tup) if not method.startswith('__')]\n",
    "methods"
   ]
  },
  {
   "cell_type": "code",
   "execution_count": 139,
   "id": "b2b667a6-ba75-488d-b89a-5a19d0cd9983",
   "metadata": {},
   "outputs": [
    {
     "data": {
      "text/plain": [
       "1"
      ]
     },
     "execution_count": 139,
     "metadata": {},
     "output_type": "execute_result"
    }
   ],
   "source": [
    "tup.count(2)"
   ]
  },
  {
   "cell_type": "markdown",
   "id": "f972ebe5-c2cf-4b0c-8882-e0b324c610bb",
   "metadata": {},
   "source": [
    "##### 2.2.1 Set\n",
    "- Initiate: {}, set()\n",
    "- No duplicated values\n",
    "- No indexing"
   ]
  },
  {
   "cell_type": "code",
   "execution_count": 141,
   "id": "479ecbb7-8a5a-4854-a427-cff96175e633",
   "metadata": {},
   "outputs": [
    {
     "data": {
      "text/plain": [
       "{True, 2, 3, 5}"
      ]
     },
     "execution_count": 141,
     "metadata": {},
     "output_type": "execute_result"
    }
   ],
   "source": [
    "set_1 = {2, 2, 3, 3, 5, 5, True, True}\n",
    "set_1"
   ]
  },
  {
   "cell_type": "code",
   "execution_count": 142,
   "id": "e2fe9b95-4526-4bf5-80df-5b338c11c29a",
   "metadata": {},
   "outputs": [
    {
     "data": {
      "text/plain": [
       "['add',\n",
       " 'clear',\n",
       " 'copy',\n",
       " 'difference',\n",
       " 'difference_update',\n",
       " 'discard',\n",
       " 'intersection',\n",
       " 'intersection_update',\n",
       " 'isdisjoint',\n",
       " 'issubset',\n",
       " 'issuperset',\n",
       " 'pop',\n",
       " 'remove',\n",
       " 'symmetric_difference',\n",
       " 'symmetric_difference_update',\n",
       " 'union',\n",
       " 'update']"
      ]
     },
     "execution_count": 142,
     "metadata": {},
     "output_type": "execute_result"
    }
   ],
   "source": [
    "methods = [method for method in dir(set_1) if not method.startswith('__')]\n",
    "methods"
   ]
  },
  {
   "cell_type": "markdown",
   "id": "ba7d0b70-ebb1-4757-b20c-5fb3c5819e9b",
   "metadata": {},
   "source": [
    "![](https://www.learnbyexample.org/wp-content/uploads/python/Python-Set-Operatioons.png)"
   ]
  },
  {
   "cell_type": "code",
   "execution_count": 151,
   "id": "f62e7eb9-8513-457a-bd75-029fe2107705",
   "metadata": {},
   "outputs": [],
   "source": [
    "set_1 = {1, 2, 3, 4, 1, 2, 123}\n",
    "set_2 = {3, 4, 5, 6}"
   ]
  },
  {
   "cell_type": "code",
   "execution_count": 146,
   "id": "cc54051c-5a64-472a-b90b-b920520cccb0",
   "metadata": {},
   "outputs": [
    {
     "data": {
      "text/plain": [
       "({1, 2, 3, 4, 123}, {3, 4, 5, 6})"
      ]
     },
     "execution_count": 146,
     "metadata": {},
     "output_type": "execute_result"
    }
   ],
   "source": [
    "set_1, set_2"
   ]
  },
  {
   "cell_type": "code",
   "execution_count": 148,
   "id": "4e4588b2-ed21-4d90-8ba1-ca8276080571",
   "metadata": {},
   "outputs": [
    {
     "data": {
      "text/plain": [
       "{3, 4}"
      ]
     },
     "execution_count": 148,
     "metadata": {},
     "output_type": "execute_result"
    }
   ],
   "source": [
    "set_3 = set_1.intersection(set_2)\n",
    "set_3"
   ]
  },
  {
   "cell_type": "code",
   "execution_count": 149,
   "id": "a121be72-5d62-44c9-843e-f9ecef9cfb43",
   "metadata": {},
   "outputs": [],
   "source": [
    "set_3 = set_1.intersection_update(set_2)\n",
    "set_3"
   ]
  },
  {
   "cell_type": "code",
   "execution_count": 150,
   "id": "16b35882-022f-43c4-885a-5452a8411dfe",
   "metadata": {},
   "outputs": [
    {
     "data": {
      "text/plain": [
       "{3, 4}"
      ]
     },
     "execution_count": 150,
     "metadata": {},
     "output_type": "execute_result"
    }
   ],
   "source": [
    "set_1"
   ]
  },
  {
   "cell_type": "code",
   "execution_count": 152,
   "id": "fa659ce3-f600-45dd-a826-205e32be1875",
   "metadata": {},
   "outputs": [
    {
     "data": {
      "text/plain": [
       "({1, 2, 3, 4, 123}, {3, 4, 5, 6})"
      ]
     },
     "execution_count": 152,
     "metadata": {},
     "output_type": "execute_result"
    }
   ],
   "source": [
    "set_1, set_2"
   ]
  },
  {
   "cell_type": "code",
   "execution_count": 153,
   "id": "ca6f1b85-709e-421d-b8a0-80ae2f5a6eab",
   "metadata": {},
   "outputs": [
    {
     "data": {
      "text/plain": [
       "False"
      ]
     },
     "execution_count": 153,
     "metadata": {},
     "output_type": "execute_result"
    }
   ],
   "source": [
    "set_1.isdisjoint(set_2)"
   ]
  },
  {
   "cell_type": "code",
   "execution_count": 154,
   "id": "09eaafff-864c-43f7-ba95-3a3ae04b90ab",
   "metadata": {},
   "outputs": [
    {
     "data": {
      "text/plain": [
       "True"
      ]
     },
     "execution_count": 154,
     "metadata": {},
     "output_type": "execute_result"
    }
   ],
   "source": [
    "set_3 = {2, 3, 4}\n",
    "set_4 = {5, 6, 6}\n",
    "\n",
    "set_3.isdisjoint(set_4)"
   ]
  },
  {
   "cell_type": "code",
   "execution_count": 157,
   "id": "c1d6f207-3524-438a-b60d-e5a06b39957a",
   "metadata": {},
   "outputs": [
    {
     "ename": "TypeError",
     "evalue": "'set' object is not subscriptable",
     "output_type": "error",
     "traceback": [
      "\u001b[0;31m---------------------------------------------------------------------------\u001b[0m",
      "\u001b[0;31mTypeError\u001b[0m                                 Traceback (most recent call last)",
      "\u001b[0;32m<ipython-input-157-c01e7170954c>\u001b[0m in \u001b[0;36m<module>\u001b[0;34m\u001b[0m\n\u001b[0;32m----> 1\u001b[0;31m \u001b[0mset_3\u001b[0m\u001b[0;34m[\u001b[0m\u001b[0;36m0\u001b[0m\u001b[0;34m]\u001b[0m\u001b[0;34m\u001b[0m\u001b[0;34m\u001b[0m\u001b[0m\n\u001b[0m",
      "\u001b[0;31mTypeError\u001b[0m: 'set' object is not subscriptable"
     ]
    }
   ],
   "source": [
    "set_3[0]"
   ]
  },
  {
   "cell_type": "markdown",
   "id": "6afc78ae-6066-4efa-9008-b59c688392f4",
   "metadata": {},
   "source": [
    "##### 2.2.1 Dictionary\n",
    "- Ititiate: {key: values}, dict()"
   ]
  },
  {
   "cell_type": "code",
   "execution_count": 155,
   "id": "b51c5161-d143-4072-93ca-a24f6ddc713e",
   "metadata": {},
   "outputs": [
    {
     "data": {
      "text/plain": [
       "{'name': ['Vuong', 'Phi', 'Hien', 'Thanh'],\n",
       " 'age': [28, 26, 18, 27],\n",
       " 'university': ['BK', 'SGU', 'UEH', 'FTU']}"
      ]
     },
     "execution_count": 155,
     "metadata": {},
     "output_type": "execute_result"
    }
   ],
   "source": [
    "dict_1 = {'name': ['Vuong', 'Phi', 'Hien', 'Thanh'],\n",
    "          'age': [28, 26, 18, 27],\n",
    "          'university': ['BK', 'SGU', 'UEH', 'FTU']}\n",
    "dict_1"
   ]
  },
  {
   "cell_type": "code",
   "execution_count": 156,
   "id": "9f587ba7-e105-4244-9156-07eab428ab78",
   "metadata": {},
   "outputs": [
    {
     "data": {
      "text/plain": [
       "['Vuong', 'Phi', 'Hien', 'Thanh']"
      ]
     },
     "execution_count": 156,
     "metadata": {},
     "output_type": "execute_result"
    }
   ],
   "source": [
    "dict_1['name']"
   ]
  },
  {
   "cell_type": "code",
   "execution_count": 158,
   "id": "5819bd07-ae7d-48e9-b68a-9b45af49a2af",
   "metadata": {},
   "outputs": [
    {
     "data": {
      "text/plain": [
       "['clear',\n",
       " 'copy',\n",
       " 'fromkeys',\n",
       " 'get',\n",
       " 'items',\n",
       " 'keys',\n",
       " 'pop',\n",
       " 'popitem',\n",
       " 'setdefault',\n",
       " 'update',\n",
       " 'values']"
      ]
     },
     "execution_count": 158,
     "metadata": {},
     "output_type": "execute_result"
    }
   ],
   "source": [
    "methods = [method for method in dir(dict_1) if not method.startswith('__')]\n",
    "methods"
   ]
  },
  {
   "cell_type": "code",
   "execution_count": 159,
   "id": "d0d961f5-2c3d-4348-abb2-0a6152593b9e",
   "metadata": {},
   "outputs": [
    {
     "data": {
      "text/plain": [
       "{'name': ['Vuong', 'Phi', 'Hien', 'Thanh'],\n",
       " 'age': [28, 26, 18, 27],\n",
       " 'university': ['BK', 'SGU', 'UEH', 'VNU']}"
      ]
     },
     "execution_count": 159,
     "metadata": {},
     "output_type": "execute_result"
    }
   ],
   "source": [
    "dict_1['university'] = ['BK', 'SGU', 'UEH', 'VNU']\n",
    "dict_1"
   ]
  },
  {
   "cell_type": "code",
   "execution_count": 160,
   "id": "ff8b93ec-e774-452d-b691-ee60a5c0ef7c",
   "metadata": {},
   "outputs": [
    {
     "data": {
      "text/plain": [
       "{'name': ['Vuong', 'Phi', 'Hien', 'Thanh'],\n",
       " 'age': [28, 26, 18, 27],\n",
       " 'university': ['BK', 'SGU', 'UEH', 'FTU']}"
      ]
     },
     "execution_count": 160,
     "metadata": {},
     "output_type": "execute_result"
    }
   ],
   "source": [
    "dict_1.update({'university': ['BK', 'SGU', 'UEH', 'FTU']})\n",
    "dict_1"
   ]
  },
  {
   "cell_type": "code",
   "execution_count": 161,
   "id": "d2547fd9-3de1-4625-a2a4-cc6bb09025b1",
   "metadata": {},
   "outputs": [
    {
     "data": {
      "text/plain": [
       "dict_keys(['name', 'age', 'university'])"
      ]
     },
     "execution_count": 161,
     "metadata": {},
     "output_type": "execute_result"
    }
   ],
   "source": [
    "dict_1.keys()"
   ]
  },
  {
   "cell_type": "code",
   "execution_count": 162,
   "id": "37c2402a-b4c6-4d0f-a6fe-095f5061364b",
   "metadata": {},
   "outputs": [
    {
     "data": {
      "text/plain": [
       "dict_values([['Vuong', 'Phi', 'Hien', 'Thanh'], [28, 26, 18, 27], ['BK', 'SGU', 'UEH', 'FTU']])"
      ]
     },
     "execution_count": 162,
     "metadata": {},
     "output_type": "execute_result"
    }
   ],
   "source": [
    "dict_1.values()"
   ]
  },
  {
   "cell_type": "code",
   "execution_count": 164,
   "id": "bb8226e2-319f-47a3-b886-1453ac8c7acc",
   "metadata": {},
   "outputs": [
    {
     "name": "stdout",
     "output_type": "stream",
     "text": [
      "With key: name, we have values: ['Vuong', 'Phi', 'Hien', 'Thanh']\n",
      "With key: age, we have values: [28, 26, 18, 27]\n",
      "With key: university, we have values: ['BK', 'SGU', 'UEH', 'FTU']\n"
     ]
    }
   ],
   "source": [
    "for key, value in dict_1.items():\n",
    "    print(f\"With key: {key}, we have values: {value}\")"
   ]
  },
  {
   "cell_type": "code",
   "execution_count": 165,
   "id": "7b17cc07-8f03-409e-b383-1e6ec0cd9daf",
   "metadata": {},
   "outputs": [],
   "source": [
    "dict_2 = {}"
   ]
  },
  {
   "cell_type": "code",
   "execution_count": 166,
   "id": "532d9eda-7b4e-470d-bec4-19c74511612b",
   "metadata": {},
   "outputs": [],
   "source": [
    "%config Completer.use_jedi = False"
   ]
  },
  {
   "cell_type": "markdown",
   "id": "7afb047d-7411-46fe-8e9b-0e2328836dbb",
   "metadata": {},
   "source": [
    "### 3. String"
   ]
  },
  {
   "cell_type": "markdown",
   "id": "4b133933-7581-4377-90b7-261c933c066c",
   "metadata": {},
   "source": [
    "#### 3.1. String format"
   ]
  },
  {
   "cell_type": "code",
   "execution_count": 67,
   "id": "19198e08-a636-4a55-babc-b5576b6f2bf3",
   "metadata": {},
   "outputs": [
    {
     "name": "stdout",
     "output_type": "stream",
     "text": [
      "Hello world!\n"
     ]
    }
   ],
   "source": [
    "name = 'world!'\n",
    "print(f\"Hello {name}\")"
   ]
  },
  {
   "cell_type": "code",
   "execution_count": 70,
   "id": "23ac9970-c390-4bb7-8de1-f8f5cbdfae97",
   "metadata": {},
   "outputs": [
    {
     "name": "stdout",
     "output_type": "stream",
     "text": [
      "Hello world! and hello Truong\n"
     ]
    }
   ],
   "source": [
    "name, fname = 'world!', 'Truong'\n",
    "print(\"Hello {} and hello {}\".format(name, fname))"
   ]
  },
  {
   "cell_type": "code",
   "execution_count": 73,
   "id": "72c19416-1bc4-4951-b27d-527142aeb0c1",
   "metadata": {},
   "outputs": [
    {
     "name": "stdout",
     "output_type": "stream",
     "text": [
      "Hello world!\n"
     ]
    }
   ],
   "source": [
    "name = 'world!'\n",
    "print(\"Hello %s\" % name)"
   ]
  },
  {
   "cell_type": "code",
   "execution_count": 75,
   "id": "d762210a-8254-4d77-9e0d-e5850c25a606",
   "metadata": {},
   "outputs": [
    {
     "name": "stdout",
     "output_type": "stream",
     "text": [
      "Hello world! and hello Truong\n"
     ]
    }
   ],
   "source": [
    "name, fname = 'world!', 'Truong'\n",
    "print(\"Hello {name} and hello {truong}\".format(truong=fname, name=name))"
   ]
  },
  {
   "cell_type": "markdown",
   "id": "efeca839-f00e-46f6-aadc-6a93bc093e40",
   "metadata": {},
   "source": [
    "### 3. Programming Flow"
   ]
  },
  {
   "cell_type": "code",
   "execution_count": null,
   "id": "04615416-d770-446e-82d7-ed5a4ea0ecc8",
   "metadata": {},
   "outputs": [],
   "source": []
  }
 ],
 "metadata": {
  "kernelspec": {
   "display_name": "Python 3",
   "language": "python",
   "name": "python3"
  },
  "language_info": {
   "codemirror_mode": {
    "name": "ipython",
    "version": 3
   },
   "file_extension": ".py",
   "mimetype": "text/x-python",
   "name": "python",
   "nbconvert_exporter": "python",
   "pygments_lexer": "ipython3",
   "version": "3.7.10"
  }
 },
 "nbformat": 4,
 "nbformat_minor": 5
}
